{
 "cells": [
  {
   "cell_type": "code",
   "execution_count": 5,
   "id": "2915ba64-c542-4989-bc6f-b8bd88f313cf",
   "metadata": {},
   "outputs": [
    {
     "name": "stdout",
     "output_type": "stream",
     "text": [
      "starting None\n",
      "word None 1 329180\n",
      "word None 1 329180\n",
      "finishing None True\n",
      "starting None\n",
      "word None 1 406300\n",
      "word None 1 406300\n",
      "finishing None True\n"
     ]
    }
   ],
   "source": [
    "#Speaking text\n",
    "import pyttsx3\n",
    "engine = pyttsx3.init()\n",
    "engine.say('Sally sells seashells by the seashore.')\n",
    "engine.say('The quick brown fox jumped over the lazy dog.')\n",
    "engine.runAndWait()"
   ]
  },
  {
   "cell_type": "code",
   "execution_count": 6,
   "id": "ba374a9b-0b5a-421c-8d93-fcbe253cee50",
   "metadata": {},
   "outputs": [],
   "source": [
    "#Saving voice to a file\n",
    "import pyttsx3\n",
    "engine = pyttsx3.init()\n",
    "engine.save_to_file('Hello World' , 'test.mp3')\n",
    "engine.runAndWait()"
   ]
  },
  {
   "cell_type": "code",
   "execution_count": 3,
   "id": "0ba00a82-5068-4741-95e4-cc36507e579e",
   "metadata": {},
   "outputs": [
    {
     "name": "stdout",
     "output_type": "stream",
     "text": [
      "starting None\n",
      "word None 1 161140\n",
      "finishing None True\n"
     ]
    }
   ],
   "source": [
    "#Listening for events\n",
    "import pyttsx3\n",
    "def onStart(name):\n",
    "    print ('starting', name)\n",
    "def onWord(name, location, length):\n",
    "    print ('word', name, location, length)\n",
    "def onEnd(name, completed):\n",
    "    print ('finishing', name, completed)\n",
    "engine = pyttsx3.init()\n",
    "engine.connect('started-utterance', onStart)\n",
    "engine.connect('started-word', onWord)\n",
    "engine.connect('finished-utterance', onEnd)\n",
    "engine.say('The quick brown fox jumped over the lazy dog.')\n",
    "engine.runAndWait()"
   ]
  },
  {
   "cell_type": "code",
   "execution_count": 4,
   "id": "d8ec1b53-4183-4ae6-9231-11fa4569f2af",
   "metadata": {},
   "outputs": [
    {
     "name": "stdout",
     "output_type": "stream",
     "text": [
      "starting None\n",
      "word None 1 245160\n",
      "word None 1 245160\n",
      "finishing None True\n"
     ]
    }
   ],
   "source": [
    "#Interrupting an utterance\n",
    "import pyttsx3\n",
    "def onWord(name, location, length):\n",
    "    print ('word', name, location, length)\n",
    "    if location > 10:\n",
    "        engine.stop()\n",
    "engine = pyttsx3.init()\n",
    "engine.connect('started-word', onWord)\n",
    "engine.say('The quick brown fox jumped over the lazy dog.')\n",
    "engine.runAndWait()"
   ]
  },
  {
   "cell_type": "code",
   "execution_count": 7,
   "id": "672fd420-e65d-4923-baae-d749f53dbb70",
   "metadata": {},
   "outputs": [
    {
     "name": "stdout",
     "output_type": "stream",
     "text": [
      "starting None\n",
      "word None 1 490320\n",
      "word None 1 490320\n",
      "finishing None True\n"
     ]
    }
   ],
   "source": [
    "#Changing voices\n",
    "engine = pyttsx3.init()\n",
    "voices = engine.getProperty('voices')\n",
    "for voice in voices:\n",
    "    engine.setProperty('voice', voice.id)\n",
    "engine.say('The quick brown fox jumped over the lazy dog.')\n",
    "engine.runAndWait()"
   ]
  },
  {
   "cell_type": "code",
   "execution_count": 8,
   "id": "661e1120-c9ee-4c61-96ec-57aaa5f5e2a2",
   "metadata": {},
   "outputs": [
    {
     "name": "stdout",
     "output_type": "stream",
     "text": [
      "starting None\n",
      "word None 1 572560\n",
      "word None 1 572560\n",
      "finishing None True\n"
     ]
    }
   ],
   "source": [
    "#Changing speech rate \n",
    "engine = pyttsx3.init()\n",
    "rate = engine.getProperty('rate')\n",
    "engine.setProperty('rate', rate+50)\n",
    "engine.say('The quick brown fox jumped over the lazy dog.')\n",
    "engine.runAndWait()\n"
   ]
  },
  {
   "cell_type": "code",
   "execution_count": 9,
   "id": "00e82bff-a9ab-41b9-b13e-8727f4d3a6c8",
   "metadata": {},
   "outputs": [
    {
     "name": "stdout",
     "output_type": "stream",
     "text": [
      "starting None\n",
      "word None 1 638960\n",
      "word None 1 638960\n",
      "finishing None True\n"
     ]
    }
   ],
   "source": [
    "#Changing volume\n",
    "engine = pyttsx3.init()\n",
    "volume = engine.getProperty('volume')\n",
    "engine.setProperty('volume', volume-0.25)\n",
    "engine.say('The quick brown fox jumped over the lazy dog.')\n",
    "engine.runAndWait()"
   ]
  },
  {
   "cell_type": "code",
   "execution_count": 10,
   "id": "1b915dcf-4fd3-44dd-aa61-85b79d77f01b",
   "metadata": {},
   "outputs": [
    {
     "name": "stdout",
     "output_type": "stream",
     "text": [
      "starting fox\n",
      "starting fox\n",
      "word fox 1 705360\n",
      "word fox 1 705360\n",
      "word fox 1 705360\n",
      "finishing fox True\n",
      "finishing fox True\n",
      "starting dog\n",
      "starting dog\n",
      "word dog 1 771760\n",
      "word dog 1 771760\n",
      "word dog 1 771760\n",
      "finishing dog True\n",
      "finishing dog True\n"
     ]
    }
   ],
   "source": [
    "#Running a driver event loop \n",
    "engine = pyttsx3.init()\n",
    "def onStart(name):\n",
    "    print ('starting', name)\n",
    "def onWord(name, location, length):\n",
    "    print ('word', name, location, length)\n",
    "def onEnd(name, completed):\n",
    "    print ('finishing', name, completed)\n",
    "    if name == 'fox':\n",
    "         engine.say('What a lazy dog!', 'dog')\n",
    "    elif name == 'dog':\n",
    "         engine.endLoop()\n",
    "engine = pyttsx3.init()\n",
    "engine.connect('started-utterance', onStart)\n",
    "engine.connect('started-word', onWord)\n",
    "engine.connect('finished-utterance', onEnd)\n",
    "engine.say('The quick brown fox jumped over the lazy dog.', 'fox')\n",
    "engine.startLoop()"
   ]
  }
 ],
 "metadata": {
  "kernelspec": {
   "display_name": "Python 3 (ipykernel)",
   "language": "python",
   "name": "python3"
  },
  "language_info": {
   "codemirror_mode": {
    "name": "ipython",
    "version": 3
   },
   "file_extension": ".py",
   "mimetype": "text/x-python",
   "name": "python",
   "nbconvert_exporter": "python",
   "pygments_lexer": "ipython3",
   "version": "3.9.13"
  }
 },
 "nbformat": 4,
 "nbformat_minor": 5
}
